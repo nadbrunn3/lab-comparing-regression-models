{
 "cells": [
  {
   "cell_type": "markdown",
   "id": "ee45499f-bf61-48cf-9896-8ed19be7fb1e",
   "metadata": {},
   "source": [
    "# Lab | Comparing regression models"
   ]
  },
  {
   "cell_type": "code",
   "execution_count": 665,
   "id": "d701357e-cf6a-410f-b4f0-3e5763130c6f",
   "metadata": {},
   "outputs": [],
   "source": [
    "import pandas as pd\n",
    "import numpy as np\n",
    "import seaborn as sns\n",
    "import matplotlib.pyplot as plt \n",
    "%matplotlib inline"
   ]
  },
  {
   "cell_type": "code",
   "execution_count": 666,
   "id": "4be10f70-8bda-4492-af48-e67c68ac4809",
   "metadata": {},
   "outputs": [],
   "source": [
    "customer_df = pd.read_csv('./files_for_lab/we_fn_use_c_marketing_customer_value_analysis.csv')"
   ]
  },
  {
   "cell_type": "markdown",
   "id": "344e9766-d6f2-4555-b747-2ab7bed8cf3e",
   "metadata": {},
   "source": [
    "#### From Lab 4.1 - Deal with column names"
   ]
  },
  {
   "cell_type": "code",
   "execution_count": 667,
   "id": "bc639e15-222d-4d99-b58d-a483cd7cf794",
   "metadata": {},
   "outputs": [],
   "source": [
    "col = list(customer_df.columns)\n",
    "\n",
    "def PE8 (x):\n",
    "       return x.lower().replace(' ', '_')\n",
    "\n",
    "col_new = list(map(PE8, col))\n",
    "customer_df.columns = col_new"
   ]
  },
  {
   "cell_type": "markdown",
   "id": "25d8b1ac-8e15-4857-977f-d681ebf1e774",
   "metadata": {},
   "source": [
    "#### From Lab 4.2: Check number of unique values in each column, can they be combined in any way to ease encoding? "
   ]
  },
  {
   "cell_type": "markdown",
   "id": "11dc2a3d-051f-4da5-8012-b9f799cf8a38",
   "metadata": {},
   "source": [
    "##### 1) Education"
   ]
  },
  {
   "cell_type": "code",
   "execution_count": 668,
   "id": "6ea63b4b-83ef-4c9c-8dfd-0172b531aceb",
   "metadata": {},
   "outputs": [
    {
     "data": {
      "text/plain": [
       "Bachelor                2748\n",
       "College                 2681\n",
       "High School or Below    2622\n",
       "Master                   741\n",
       "Doctor                   342\n",
       "Name: education, dtype: int64"
      ]
     },
     "execution_count": 668,
     "metadata": {},
     "output_type": "execute_result"
    }
   ],
   "source": [
    "customer_df['education'].value_counts()"
   ]
  },
  {
   "cell_type": "code",
   "execution_count": 669,
   "id": "e18c980b-3369-42ee-bbea-6f53f26a336d",
   "metadata": {},
   "outputs": [],
   "source": [
    "customer_df['education'] = np.where(customer_df['education'].isin(['Master', 'Doctor']), 'Higher Eduction', customer_df['education'])"
   ]
  },
  {
   "cell_type": "markdown",
   "id": "ae31a846-9e4c-4616-b760-74e2b7795ce8",
   "metadata": {},
   "source": [
    "##### 2. EmploymentStatus"
   ]
  },
  {
   "cell_type": "code",
   "execution_count": 670,
   "id": "c8a40b1f-4d20-4b31-a02a-3378b13d45b4",
   "metadata": {},
   "outputs": [
    {
     "data": {
      "text/plain": [
       "Employed         5698\n",
       "Unemployed       2317\n",
       "Medical Leave     432\n",
       "Disabled          405\n",
       "Retired           282\n",
       "Name: employmentstatus, dtype: int64"
      ]
     },
     "execution_count": 670,
     "metadata": {},
     "output_type": "execute_result"
    }
   ],
   "source": [
    "customer_df['employmentstatus'].value_counts()"
   ]
  },
  {
   "cell_type": "code",
   "execution_count": 671,
   "id": "54a90f15-5cd3-484a-bb72-d7c729a5d68d",
   "metadata": {},
   "outputs": [
    {
     "data": {
      "text/plain": [
       "Employed      5698\n",
       "Unemployed    2317\n",
       "Other         1119\n",
       "Name: employmentstatus, dtype: int64"
      ]
     },
     "execution_count": 671,
     "metadata": {},
     "output_type": "execute_result"
    }
   ],
   "source": [
    "customer_df['employmentstatus'] = np.where(customer_df['employmentstatus'].isin(['Medical Leave', 'Disabled', 'Retired']), 'Other', customer_df['employmentstatus'])\n",
    "customer_df['employmentstatus'].value_counts()"
   ]
  },
  {
   "cell_type": "markdown",
   "id": "77913ec7-c3cf-4807-9f33-92aa3a34092b",
   "metadata": {},
   "source": [
    "##### 3. Policy"
   ]
  },
  {
   "cell_type": "code",
   "execution_count": 672,
   "id": "7eed1f5e-0009-48f8-b18d-68bb8f8d3dcf",
   "metadata": {},
   "outputs": [
    {
     "data": {
      "text/plain": [
       "Personal L3     3426\n",
       "Personal L2     2122\n",
       "Personal L1     1240\n",
       "Corporate L3    1014\n",
       "Corporate L2     595\n",
       "Corporate L1     359\n",
       "Special L2       164\n",
       "Special L3       148\n",
       "Special L1        66\n",
       "Name: policy, dtype: int64"
      ]
     },
     "execution_count": 672,
     "metadata": {},
     "output_type": "execute_result"
    }
   ],
   "source": [
    "customer_df['policy'].value_counts()"
   ]
  },
  {
   "cell_type": "code",
   "execution_count": 673,
   "id": "88fb6275-3f5c-4b0e-bc77-04bfdbc5fc71",
   "metadata": {},
   "outputs": [
    {
     "data": {
      "text/plain": [
       "Personal L3    3426\n",
       "Personal L2    2122\n",
       "Corporate      1968\n",
       "Personal L1    1240\n",
       "Speial          378\n",
       "Name: policy, dtype: int64"
      ]
     },
     "execution_count": 673,
     "metadata": {},
     "output_type": "execute_result"
    }
   ],
   "source": [
    "special = ['Special L1', 'Special L2', 'Special L3']\n",
    "corp = ['Corporate L2', 'Corporate L1', 'Corporate L3']\n",
    "\n",
    "def policy_clust(x):\n",
    "            if x in special: \n",
    "                return 'Speial'\n",
    "            elif x in corp: \n",
    "                return 'Corporate'\n",
    "            else: \n",
    "                return x\n",
    "        \n",
    "customer_df['policy'] = customer_df['policy'].apply(policy_clust)\n",
    "customer_df['policy'].value_counts()"
   ]
  },
  {
   "cell_type": "markdown",
   "id": "962dda26-5f7e-4616-9524-34e229fb8c18",
   "metadata": {},
   "source": [
    "##### 4. Vehicle Class"
   ]
  },
  {
   "cell_type": "code",
   "execution_count": 674,
   "id": "e3a64d15-324a-421a-a61f-2bd772b0cedb",
   "metadata": {},
   "outputs": [
    {
     "data": {
      "text/plain": [
       "Four-Door Car    4621\n",
       "Two-Door Car     1886\n",
       "SUV              1796\n",
       "Sports Car        484\n",
       "Luxury SUV        184\n",
       "Luxury Car        163\n",
       "Name: vehicle_class, dtype: int64"
      ]
     },
     "execution_count": 674,
     "metadata": {},
     "output_type": "execute_result"
    }
   ],
   "source": [
    "customer_df['vehicle_class'].value_counts()"
   ]
  },
  {
   "cell_type": "code",
   "execution_count": 675,
   "id": "1e4b1ece-a3ce-44d1-958c-969d8104bbac",
   "metadata": {},
   "outputs": [
    {
     "data": {
      "text/plain": [
       "Four-Door Car    4621\n",
       "Two-Door Car     1886\n",
       "SUV              1796\n",
       "Others            831\n",
       "Name: vehicle_class, dtype: int64"
      ]
     },
     "execution_count": 675,
     "metadata": {},
     "output_type": "execute_result"
    }
   ],
   "source": [
    "customer_df['vehicle_class'] = np.where(customer_df['vehicle_class'].isin(['Sports Car', 'Luxury SUV', 'Luxury Car']), 'Others', customer_df['vehicle_class'])\n",
    "customer_df['vehicle_class'].value_counts()"
   ]
  },
  {
   "cell_type": "code",
   "execution_count": 676,
   "id": "95eca0bc-f7f0-4f11-9cd3-5fa73cb81271",
   "metadata": {},
   "outputs": [],
   "source": [
    "customer_df = pd.DataFrame(customer_df)"
   ]
  },
  {
   "cell_type": "markdown",
   "id": "1558d205-8eb2-47c7-b7e7-110924479def",
   "metadata": {},
   "source": [
    "# Lab | Comparing regression models"
   ]
  },
  {
   "cell_type": "code",
   "execution_count": 677,
   "id": "939345c6-8054-4f7d-95e2-852e63b65ddf",
   "metadata": {},
   "outputs": [],
   "source": [
    "from sklearn.model_selection import train_test_split"
   ]
  },
  {
   "cell_type": "markdown",
   "id": "922710e5-3f4b-4dd8-b918-d0b2225091eb",
   "metadata": {},
   "source": [
    "#### 2. Remove Outliers from numeric features"
   ]
  },
  {
   "cell_type": "code",
   "execution_count": 678,
   "id": "5e1020bb-29b5-4229-ae3c-5167c12592b3",
   "metadata": {},
   "outputs": [],
   "source": [
    "# CHECKING FOR OUTLIERS with Boxplot"
   ]
  },
  {
   "cell_type": "code",
   "execution_count": 679,
   "id": "3faf1799-a7c1-4fb1-950e-14da6c7f5c6a",
   "metadata": {},
   "outputs": [
    {
     "data": {
      "image/png": "[encoded data removed]",
      "text/plain": [
       "<Figure size 432x288 with 1 Axes>"
      ]
     },
     "metadata": {
      "needs_background": "light"
     },
     "output_type": "display_data"
    },
    {
     "data": {
      "image/png": "[encoded data removed]",
      "text/plain": [
       "<Figure size 432x288 with 1 Axes>"
      ]
     },
     "metadata": {
      "needs_background": "light"
     },
     "output_type": "display_data"
    },
    {
     "data": {
      "image/png": "[encoded data removed]",
      "text/plain": [
       "<Figure size 432x288 with 1 Axes>"
      ]
     },
     "metadata": {
      "needs_background": "light"
     },
     "output_type": "display_data"
    },
    {
     "data": {
      "image/png": "[encoded data removed]",
      "text/plain": [
       "<Figure size 432x288 with 1 Axes>"
      ]
     },
     "metadata": {
      "needs_background": "light"
     },
     "output_type": "display_data"
    },
    {
     "data": {
      "image/png": "[encoded data removed]",
      "text/plain": [
       "<Figure size 432x288 with 1 Axes>"
      ]
     },
     "metadata": {
      "needs_background": "light"
     },
     "output_type": "display_data"
    },
    {
     "data": {
      "image/png": "[encoded data removed]",
      "text/plain": [
       "<Figure size 432x288 with 1 Axes>"
      ]
     },
     "metadata": {
      "needs_background": "light"
     },
     "output_type": "display_data"
    },
    {
     "data": {
      "image/png": "[encoded data removed]",
      "text/plain": [
       "<Figure size 432x288 with 1 Axes>"
      ]
     },
     "metadata": {
      "needs_background": "light"
     },
     "output_type": "display_data"
    },
    {
     "data": {
      "image/png": "[encoded data removed]",
      "text/plain": [
       "<Figure size 432x288 with 1 Axes>"
      ]
     },
     "metadata": {
      "needs_background": "light"
     },
     "output_type": "display_data"
    }
   ],
   "source": [
    "customer_num = customer_df.select_dtypes(include = np.number)\n",
    "\n",
    "for i in customer_num:    \n",
    "    sns.boxplot(x = customer_num[i])\n",
    "    plt.show()\n",
    "    \n",
    "#There are some outliers in CUSTOMER LIFETIME VALUE, CLAIM AMOUNT and NUMBER OF POLICIES. \n",
    "\n",
    "# --> Remove outliers with the IQR Method: \n"
   ]
  },
  {
   "cell_type": "code",
   "execution_count": 680,
   "id": "d2dccd64-a091-4d35-ae4a-18bbe3cc4eb0",
   "metadata": {
    "tags": []
   },
   "outputs": [
    {
     "name": "stdout",
     "output_type": "stream",
     "text": [
      "This is the shape after removing the outliers (7454, 24)\n",
      "This is the shape before removing the outliers (9134, 24)\n"
     ]
    }
   ],
   "source": [
    "# IQR METHODE FOR OUTLIERS \n",
    "\n",
    "def upper_limit(x):\n",
    "    #IQR\n",
    "    Q1 = np.percentile(x, 25)\n",
    "    Q3 = np.percentile(x, 75)\n",
    "    IQR = Q3 - Q1\n",
    "    #Upper_limit\n",
    "    upper_limit = Q3 + 1.5*IQR\n",
    "    return upper_limit\n",
    "\n",
    "customer_df_outlier_dropped = customer_df.loc[(customer_df['total_claim_amount'] <= upper_limit(customer_df['total_claim_amount'])) &\n",
    "               (customer_df['number_of_policies'] <= upper_limit(customer_df['number_of_policies'])) &\n",
    "               (customer_df['monthly_premium_auto'] <= upper_limit(customer_df['monthly_premium_auto'])) &\n",
    "               (customer_df['customer_lifetime_value'] <= upper_limit(customer_df['customer_lifetime_value']))]\n",
    "\n",
    "print('This is the shape after removing the outliers {}'.format(customer_df_outlier_dropped.shape))\n",
    "print('This is the shape before removing the outliers {}'.format(customer_df.shape))\n"
   ]
  },
  {
   "cell_type": "code",
   "execution_count": 681,
   "id": "0a7158ab-0a44-4301-840f-d4b98a8069bf",
   "metadata": {},
   "outputs": [
    {
     "data": {
      "text/plain": [
       "customer                         0\n",
       "state                            0\n",
       "customer_lifetime_value          0\n",
       "response                         0\n",
       "coverage                         0\n",
       "education                        0\n",
       "effective_to_date                0\n",
       "employmentstatus                 0\n",
       "gender                           0\n",
       "income                           0\n",
       "location_code                    0\n",
       "marital_status                   0\n",
       "monthly_premium_auto             0\n",
       "months_since_last_claim          0\n",
       "months_since_policy_inception    0\n",
       "number_of_open_complaints        0\n",
       "number_of_policies               0\n",
       "policy_type                      0\n",
       "policy                           0\n",
       "renew_offer_type                 0\n",
       "sales_channel                    0\n",
       "total_claim_amount               0\n",
       "vehicle_class                    0\n",
       "vehicle_size                     0\n",
       "dtype: int64"
      ]
     },
     "execution_count": 681,
     "metadata": {},
     "output_type": "execute_result"
    }
   ],
   "source": [
    "#Checking if there are any Null Values \n",
    "\n",
    "customer_df_outlier_dropped.isna().sum()"
   ]
  },
  {
   "cell_type": "markdown",
   "id": "3661056d-0e88-4f3f-a000-4220b607e255",
   "metadata": {},
   "source": [
    "#### 3. TRAIN TEST SPLIT"
   ]
  },
  {
   "cell_type": "code",
   "execution_count": 683,
   "id": "bce6b4ed-1dbb-499d-9917-e275bd0e4e57",
   "metadata": {},
   "outputs": [],
   "source": [
    "y_df = customer_df_outlier_dropped[['total_claim_amount']] # I chose Total Claim Amount as prediction value\n",
    "X_df = customer_df_outlier_dropped.drop(['total_claim_amount'], axis = 1)"
   ]
  },
  {
   "cell_type": "code",
   "execution_count": 684,
   "id": "310066ff-bc76-4106-92d3-0364fd3f6102",
   "metadata": {},
   "outputs": [],
   "source": [
    "X_train, X_test, y_train, y_test = train_test_split(X_df, y_df, test_size = 0.3, random_state = 22)\n",
    "\n",
    "X_train = pd.DataFrame(X_train)\n",
    "X_test = pd.DataFrame(X_test)\n",
    "y_train = y_train.to_numpy()\n",
    "y_test = y_test.to_numpy()\n",
    "\n",
    "X_train_cat = X_train.select_dtypes('object')\n",
    "X_test_cat = X_test.select_dtypes('object')\n",
    "X_train_num = X_train.select_dtypes(include = np.number)\n",
    "X_test_num = X_test.select_dtypes(include = np.number)"
   ]
  },
  {
   "cell_type": "markdown",
   "id": "2954da6b-0e95-4f67-9513-0bab29e69080",
   "metadata": {},
   "source": [
    "#### 4. Normalize the continuous variables"
   ]
  },
  {
   "cell_type": "code",
   "execution_count": 688,
   "id": "31cb5cd8-7c53-42ad-9be2-22e9c4fcaed5",
   "metadata": {},
   "outputs": [
    {
     "data": {
      "text/html": [
       "<div>\n",
       "<style scoped>\n",
       "    .dataframe tbody tr th:only-of-type {\n",
       "        vertical-align: middle;\n",
       "    }\n",
       "\n",
       "    .dataframe tbody tr th {\n",
       "        vertical-align: top;\n",
       "    }\n",
       "\n",
       "    .dataframe thead th {\n",
       "        text-align: right;\n",
       "    }\n",
       "</style>\n",
       "<table border=\"1\" class=\"dataframe\">\n",
       "  <thead>\n",
       "    <tr style=\"text-align: right;\">\n",
       "      <th></th>\n",
       "      <th>customer_lifetime_value</th>\n",
       "      <th>income</th>\n",
       "      <th>monthly_premium_auto</th>\n",
       "      <th>months_since_last_claim</th>\n",
       "      <th>months_since_policy_inception</th>\n",
       "      <th>number_of_open_complaints</th>\n",
       "      <th>number_of_policies</th>\n",
       "    </tr>\n",
       "  </thead>\n",
       "  <tbody>\n",
       "    <tr>\n",
       "      <th>0</th>\n",
       "      <td>0.038751</td>\n",
       "      <td>0.692680</td>\n",
       "      <td>0.000000</td>\n",
       "      <td>0.400000</td>\n",
       "      <td>0.848485</td>\n",
       "      <td>0.0</td>\n",
       "      <td>0.000000</td>\n",
       "    </tr>\n",
       "    <tr>\n",
       "      <th>1</th>\n",
       "      <td>0.321761</td>\n",
       "      <td>0.000000</td>\n",
       "      <td>0.293578</td>\n",
       "      <td>0.057143</td>\n",
       "      <td>0.888889</td>\n",
       "      <td>0.0</td>\n",
       "      <td>0.285714</td>\n",
       "    </tr>\n",
       "    <tr>\n",
       "      <th>2</th>\n",
       "      <td>0.022374</td>\n",
       "      <td>0.000000</td>\n",
       "      <td>0.009174</td>\n",
       "      <td>0.142857</td>\n",
       "      <td>0.545455</td>\n",
       "      <td>0.0</td>\n",
       "      <td>0.000000</td>\n",
       "    </tr>\n",
       "    <tr>\n",
       "      <th>3</th>\n",
       "      <td>0.221430</td>\n",
       "      <td>0.702014</td>\n",
       "      <td>0.027523</td>\n",
       "      <td>0.514286</td>\n",
       "      <td>0.808081</td>\n",
       "      <td>0.0</td>\n",
       "      <td>0.857143</td>\n",
       "    </tr>\n",
       "    <tr>\n",
       "      <th>4</th>\n",
       "      <td>0.322777</td>\n",
       "      <td>0.105211</td>\n",
       "      <td>0.284404</td>\n",
       "      <td>0.400000</td>\n",
       "      <td>0.656566</td>\n",
       "      <td>0.0</td>\n",
       "      <td>0.285714</td>\n",
       "    </tr>\n",
       "    <tr>\n",
       "      <th>...</th>\n",
       "      <td>...</td>\n",
       "      <td>...</td>\n",
       "      <td>...</td>\n",
       "      <td>...</td>\n",
       "      <td>...</td>\n",
       "      <td>...</td>\n",
       "      <td>...</td>\n",
       "    </tr>\n",
       "    <tr>\n",
       "      <th>5212</th>\n",
       "      <td>0.492093</td>\n",
       "      <td>0.659997</td>\n",
       "      <td>0.477064</td>\n",
       "      <td>0.085714</td>\n",
       "      <td>0.434343</td>\n",
       "      <td>0.0</td>\n",
       "      <td>0.285714</td>\n",
       "    </tr>\n",
       "    <tr>\n",
       "      <th>5213</th>\n",
       "      <td>0.208276</td>\n",
       "      <td>0.000000</td>\n",
       "      <td>0.036697</td>\n",
       "      <td>0.600000</td>\n",
       "      <td>0.616162</td>\n",
       "      <td>0.0</td>\n",
       "      <td>0.857143</td>\n",
       "    </tr>\n",
       "    <tr>\n",
       "      <th>5214</th>\n",
       "      <td>0.748351</td>\n",
       "      <td>0.730825</td>\n",
       "      <td>0.412844</td>\n",
       "      <td>0.971429</td>\n",
       "      <td>0.363636</td>\n",
       "      <td>0.2</td>\n",
       "      <td>0.142857</td>\n",
       "    </tr>\n",
       "    <tr>\n",
       "      <th>5215</th>\n",
       "      <td>0.042465</td>\n",
       "      <td>0.504697</td>\n",
       "      <td>0.018349</td>\n",
       "      <td>0.685714</td>\n",
       "      <td>0.808081</td>\n",
       "      <td>0.0</td>\n",
       "      <td>0.000000</td>\n",
       "    </tr>\n",
       "    <tr>\n",
       "      <th>5216</th>\n",
       "      <td>0.616739</td>\n",
       "      <td>0.346255</td>\n",
       "      <td>0.275229</td>\n",
       "      <td>0.228571</td>\n",
       "      <td>0.777778</td>\n",
       "      <td>0.2</td>\n",
       "      <td>0.142857</td>\n",
       "    </tr>\n",
       "  </tbody>\n",
       "</table>\n",
       "<p>5217 rows × 7 columns</p>\n",
       "</div>"
      ],
      "text/plain": [
       "      customer_lifetime_value    income  monthly_premium_auto  \\\n",
       "0                    0.038751  0.692680              0.000000   \n",
       "1                    0.321761  0.000000              0.293578   \n",
       "2                    0.022374  0.000000              0.009174   \n",
       "3                    0.221430  0.702014              0.027523   \n",
       "4                    0.322777  0.105211              0.284404   \n",
       "...                       ...       ...                   ...   \n",
       "5212                 0.492093  0.659997              0.477064   \n",
       "5213                 0.208276  0.000000              0.036697   \n",
       "5214                 0.748351  0.730825              0.412844   \n",
       "5215                 0.042465  0.504697              0.018349   \n",
       "5216                 0.616739  0.346255              0.275229   \n",
       "\n",
       "      months_since_last_claim  months_since_policy_inception  \\\n",
       "0                    0.400000                       0.848485   \n",
       "1                    0.057143                       0.888889   \n",
       "2                    0.142857                       0.545455   \n",
       "3                    0.514286                       0.808081   \n",
       "4                    0.400000                       0.656566   \n",
       "...                       ...                            ...   \n",
       "5212                 0.085714                       0.434343   \n",
       "5213                 0.600000                       0.616162   \n",
       "5214                 0.971429                       0.363636   \n",
       "5215                 0.685714                       0.808081   \n",
       "5216                 0.228571                       0.777778   \n",
       "\n",
       "      number_of_open_complaints  number_of_policies  \n",
       "0                           0.0            0.000000  \n",
       "1                           0.0            0.285714  \n",
       "2                           0.0            0.000000  \n",
       "3                           0.0            0.857143  \n",
       "4                           0.0            0.285714  \n",
       "...                         ...                 ...  \n",
       "5212                        0.0            0.285714  \n",
       "5213                        0.0            0.857143  \n",
       "5214                        0.2            0.142857  \n",
       "5215                        0.0            0.000000  \n",
       "5216                        0.2            0.142857  \n",
       "\n",
       "[5217 rows x 7 columns]"
      ]
     },
     "execution_count": 688,
     "metadata": {},
     "output_type": "execute_result"
    }
   ],
   "source": [
    "from sklearn.preprocessing import MinMaxScaler\n",
    "\n",
    "scaler = MinMaxScaler()\n",
    "X_train_scaled_num = scaler.fit_transform(X_train_num)\n",
    "X_test_scaled_num = scaler.fit_transform(X_test_num)\n",
    "\n",
    "X_train_scaled_num = pd.DataFrame(X_train_scaled_num, columns = X_train_num.columns)\n",
    "X_test_scaled_num = pd.DataFrame(X_test_scaled_num, columns = X_test_num.columns)\n",
    "\n",
    "X_train_scaled_num"
   ]
  },
  {
   "cell_type": "markdown",
   "id": "1784d432-4557-451d-91c1-d45136d6d608",
   "metadata": {},
   "source": [
    "#### 5. Encode the categorical variables "
   ]
  },
  {
   "cell_type": "code",
   "execution_count": 689,
   "id": "1ca9f7a4-d767-43f0-8bdd-418d0c9d4c72",
   "metadata": {},
   "outputs": [],
   "source": [
    "from sklearn.preprocessing import OrdinalEncoder, OneHotEncoder"
   ]
  },
  {
   "cell_type": "code",
   "execution_count": 690,
   "id": "333a175a-62b5-40d5-a251-1c7754f96e95",
   "metadata": {},
   "outputs": [],
   "source": [
    "#SPLITING DATA INTO ORDINAL AND NOMINAL CATEGORIES: \n",
    "\n",
    "X_train_cat_ordinal = X_train_cat[['coverage', 'education', 'employmentstatus', 'location_code', 'vehicle_size']]\n",
    "X_train_cat_nominal = X_train_cat[['state', 'gender', 'marital_status', 'policy_type', 'policy', 'renew_offer_type', 'sales_channel', 'vehicle_class']]\n",
    "\n",
    "X_test_cat_ordinal = X_test_cat[['coverage', 'education', 'employmentstatus', 'location_code', 'vehicle_size']]\n",
    "X_test_cat_nominal = X_test_cat[['state', 'gender', 'marital_status', 'policy_type', 'policy', 'renew_offer_type', 'sales_channel', 'vehicle_class']]\n"
   ]
  },
  {
   "cell_type": "code",
   "execution_count": 691,
   "id": "e04e4961-4772-4133-8c18-c2d2fd2a9f8d",
   "metadata": {},
   "outputs": [],
   "source": [
    "#ENCODING ORDINAL DATA TYPES:\n",
    "\n",
    "# X TRAIN\n",
    "enc = OrdinalEncoder()\n",
    "X_train_encoded = enc.fit_transform(X_train_cat_ordinal)\n",
    "X_train_ordinal_encoded = pd.DataFrame(X_train_encoded, columns = enc.get_feature_names_out())\n",
    "\n",
    "\n",
    "# X TEST\n",
    "X_test_encoded = enc.fit_transform(X_test_cat_ordinal)\n",
    "X_test_ordinal_encoded = pd.DataFrame(X_test_encoded, columns = enc.get_feature_names_out())"
   ]
  },
  {
   "cell_type": "code",
   "execution_count": 692,
   "id": "230a3882-01b1-4b0a-8034-2f2ebe54b84b",
   "metadata": {},
   "outputs": [],
   "source": [
    "# SCALING ENCODED ORDINAL DATA with the MinMaxScaler in order to have all values between 0 and 1 \n",
    "\n",
    "scaler = MinMaxScaler()\n",
    "X_train_ordinal_encoded_scaled = scaler.fit_transform(X_train_ordinal_encoded)\n",
    "X_test_ordinal_encoded_scaled = scaler.fit_transform(X_test_ordinal_encoded)\n",
    "\n",
    "X_test_ordinal_encoded_scaled = pd.DataFrame(X_test_ordinal_encoded_scaled, columns = X_test_ordinal_encoded.columns)\n",
    "X_train_ordinal_encoded_scaled = pd.DataFrame(X_train_ordinal_encoded_scaled, columns = X_train_ordinal_encoded.columns)"
   ]
  },
  {
   "cell_type": "code",
   "execution_count": 748,
   "id": "d85f87fe-ce60-4481-a56e-26d214e9783c",
   "metadata": {},
   "outputs": [],
   "source": [
    "#ENCODING NOMINAL DATA TYPES\n",
    "\n",
    "# X TRAIN\n",
    "ohe = OneHotEncoder()\n",
    "X_train_ohe = ohe.fit_transform(X_train_cat_nominal).toarray()\n",
    "X_train_nominal_ohe = pd.DataFrame(X_train_ohe, columns = ohe.get_feature_names_out())\n",
    "X_train_nominal_ohe\n",
    "\n",
    "# X TEST\n",
    "X_test_ohe = ohe.fit_transform(X_test_cat_nominal).toarray()\n",
    "X_test_nominal_ohe = pd.DataFrame(X_test_ohe, columns = ohe.get_feature_names_out())\n"
   ]
  },
  {
   "cell_type": "markdown",
   "id": "f7aa94bd-3e2c-47ba-8100-92c86505e650",
   "metadata": {},
   "source": [
    "#### 6. The time variable can be useful. Try to transform its data into a useful one. "
   ]
  },
  {
   "cell_type": "code",
   "execution_count": 694,
   "id": "cc423253-098a-47a3-95e1-e56c574b930f",
   "metadata": {},
   "outputs": [],
   "source": [
    "X_train_cat_customer_time = X_train_cat[['customer', 'effective_to_date']]\n",
    "X_test_cat_customer_time = X_test_cat[['customer', 'effective_to_date']]"
   ]
  },
  {
   "cell_type": "code",
   "execution_count": 695,
   "id": "6a4eaacd-f0bd-436c-aed0-05e2eb34faeb",
   "metadata": {},
   "outputs": [
    {
     "name": "stderr",
     "output_type": "stream",
     "text": [
      "/var/folders/dj/n16zrnc50j79vq_pt7btwyg40000gn/T/ipykernel_47499/2525887010.py:1: SettingWithCopyWarning: \n",
      "A value is trying to be set on a copy of a slice from a DataFrame.\n",
      "Try using .loc[row_indexer,col_indexer] = value instead\n",
      "\n",
      "See the caveats in the documentation: https://pandas.pydata.org/pandas-docs/stable/user_guide/indexing.html#returning-a-view-versus-a-copy\n",
      "  X_train_cat_customer_time['yyyy'] = pd.to_datetime(X_train_cat_customer_time['effective_to_date']).dt.year\n",
      "/var/folders/dj/n16zrnc50j79vq_pt7btwyg40000gn/T/ipykernel_47499/2525887010.py:2: SettingWithCopyWarning: \n",
      "A value is trying to be set on a copy of a slice from a DataFrame.\n",
      "Try using .loc[row_indexer,col_indexer] = value instead\n",
      "\n",
      "See the caveats in the documentation: https://pandas.pydata.org/pandas-docs/stable/user_guide/indexing.html#returning-a-view-versus-a-copy\n",
      "  X_test_cat_customer_time['yyyy'] = pd.to_datetime(X_test_cat_customer_time['effective_to_date']).dt.year\n",
      "/var/folders/dj/n16zrnc50j79vq_pt7btwyg40000gn/T/ipykernel_47499/2525887010.py:4: SettingWithCopyWarning: \n",
      "A value is trying to be set on a copy of a slice from a DataFrame.\n",
      "Try using .loc[row_indexer,col_indexer] = value instead\n",
      "\n",
      "See the caveats in the documentation: https://pandas.pydata.org/pandas-docs/stable/user_guide/indexing.html#returning-a-view-versus-a-copy\n",
      "  X_train_cat_customer_time['mm'] = pd.to_datetime(X_train_cat_customer_time['effective_to_date']).dt.month\n",
      "/var/folders/dj/n16zrnc50j79vq_pt7btwyg40000gn/T/ipykernel_47499/2525887010.py:5: SettingWithCopyWarning: \n",
      "A value is trying to be set on a copy of a slice from a DataFrame.\n",
      "Try using .loc[row_indexer,col_indexer] = value instead\n",
      "\n",
      "See the caveats in the documentation: https://pandas.pydata.org/pandas-docs/stable/user_guide/indexing.html#returning-a-view-versus-a-copy\n",
      "  X_test_cat_customer_time['mm'] = pd.to_datetime(X_test_cat_customer_time['effective_to_date']).dt.month\n",
      "/var/folders/dj/n16zrnc50j79vq_pt7btwyg40000gn/T/ipykernel_47499/2525887010.py:7: SettingWithCopyWarning: \n",
      "A value is trying to be set on a copy of a slice from a DataFrame.\n",
      "Try using .loc[row_indexer,col_indexer] = value instead\n",
      "\n",
      "See the caveats in the documentation: https://pandas.pydata.org/pandas-docs/stable/user_guide/indexing.html#returning-a-view-versus-a-copy\n",
      "  X_train_cat_customer_time['dd'] = pd.to_datetime(X_train_cat_customer_time['effective_to_date']).dt.day\n",
      "/var/folders/dj/n16zrnc50j79vq_pt7btwyg40000gn/T/ipykernel_47499/2525887010.py:8: SettingWithCopyWarning: \n",
      "A value is trying to be set on a copy of a slice from a DataFrame.\n",
      "Try using .loc[row_indexer,col_indexer] = value instead\n",
      "\n",
      "See the caveats in the documentation: https://pandas.pydata.org/pandas-docs/stable/user_guide/indexing.html#returning-a-view-versus-a-copy\n",
      "  X_test_cat_customer_time['dd'] = pd.to_datetime(X_test_cat_customer_time['effective_to_date']).dt.day\n"
     ]
    },
    {
     "data": {
      "text/html": [
       "<div>\n",
       "<style scoped>\n",
       "    .dataframe tbody tr th:only-of-type {\n",
       "        vertical-align: middle;\n",
       "    }\n",
       "\n",
       "    .dataframe tbody tr th {\n",
       "        vertical-align: top;\n",
       "    }\n",
       "\n",
       "    .dataframe thead th {\n",
       "        text-align: right;\n",
       "    }\n",
       "</style>\n",
       "<table border=\"1\" class=\"dataframe\">\n",
       "  <thead>\n",
       "    <tr style=\"text-align: right;\">\n",
       "      <th></th>\n",
       "      <th>customer</th>\n",
       "      <th>effective_to_date</th>\n",
       "      <th>yyyy</th>\n",
       "      <th>mm</th>\n",
       "      <th>dd</th>\n",
       "    </tr>\n",
       "  </thead>\n",
       "  <tbody>\n",
       "    <tr>\n",
       "      <th>8704</th>\n",
       "      <td>IO81315</td>\n",
       "      <td>2/21/11</td>\n",
       "      <td>2011</td>\n",
       "      <td>2</td>\n",
       "      <td>21</td>\n",
       "    </tr>\n",
       "    <tr>\n",
       "      <th>7659</th>\n",
       "      <td>IA27050</td>\n",
       "      <td>1/4/11</td>\n",
       "      <td>2011</td>\n",
       "      <td>1</td>\n",
       "      <td>4</td>\n",
       "    </tr>\n",
       "    <tr>\n",
       "      <th>7497</th>\n",
       "      <td>PT52001</td>\n",
       "      <td>2/11/11</td>\n",
       "      <td>2011</td>\n",
       "      <td>2</td>\n",
       "      <td>11</td>\n",
       "    </tr>\n",
       "    <tr>\n",
       "      <th>2231</th>\n",
       "      <td>NQ71171</td>\n",
       "      <td>2/2/11</td>\n",
       "      <td>2011</td>\n",
       "      <td>2</td>\n",
       "      <td>2</td>\n",
       "    </tr>\n",
       "    <tr>\n",
       "      <th>5726</th>\n",
       "      <td>TF68928</td>\n",
       "      <td>2/5/11</td>\n",
       "      <td>2011</td>\n",
       "      <td>2</td>\n",
       "      <td>5</td>\n",
       "    </tr>\n",
       "    <tr>\n",
       "      <th>...</th>\n",
       "      <td>...</td>\n",
       "      <td>...</td>\n",
       "      <td>...</td>\n",
       "      <td>...</td>\n",
       "      <td>...</td>\n",
       "    </tr>\n",
       "    <tr>\n",
       "      <th>438</th>\n",
       "      <td>GE47180</td>\n",
       "      <td>2/14/11</td>\n",
       "      <td>2011</td>\n",
       "      <td>2</td>\n",
       "      <td>14</td>\n",
       "    </tr>\n",
       "    <tr>\n",
       "      <th>8709</th>\n",
       "      <td>SX87181</td>\n",
       "      <td>2/6/11</td>\n",
       "      <td>2011</td>\n",
       "      <td>2</td>\n",
       "      <td>6</td>\n",
       "    </tr>\n",
       "    <tr>\n",
       "      <th>6046</th>\n",
       "      <td>ZG82127</td>\n",
       "      <td>1/7/11</td>\n",
       "      <td>2011</td>\n",
       "      <td>1</td>\n",
       "      <td>7</td>\n",
       "    </tr>\n",
       "    <tr>\n",
       "      <th>7700</th>\n",
       "      <td>JB60515</td>\n",
       "      <td>1/29/11</td>\n",
       "      <td>2011</td>\n",
       "      <td>1</td>\n",
       "      <td>29</td>\n",
       "    </tr>\n",
       "    <tr>\n",
       "      <th>3606</th>\n",
       "      <td>HW40931</td>\n",
       "      <td>1/6/11</td>\n",
       "      <td>2011</td>\n",
       "      <td>1</td>\n",
       "      <td>6</td>\n",
       "    </tr>\n",
       "  </tbody>\n",
       "</table>\n",
       "<p>5217 rows × 5 columns</p>\n",
       "</div>"
      ],
      "text/plain": [
       "     customer effective_to_date  yyyy  mm  dd\n",
       "8704  IO81315           2/21/11  2011   2  21\n",
       "7659  IA27050            1/4/11  2011   1   4\n",
       "7497  PT52001           2/11/11  2011   2  11\n",
       "2231  NQ71171            2/2/11  2011   2   2\n",
       "5726  TF68928            2/5/11  2011   2   5\n",
       "...       ...               ...   ...  ..  ..\n",
       "438   GE47180           2/14/11  2011   2  14\n",
       "8709  SX87181            2/6/11  2011   2   6\n",
       "6046  ZG82127            1/7/11  2011   1   7\n",
       "7700  JB60515           1/29/11  2011   1  29\n",
       "3606  HW40931            1/6/11  2011   1   6\n",
       "\n",
       "[5217 rows x 5 columns]"
      ]
     },
     "execution_count": 695,
     "metadata": {},
     "output_type": "execute_result"
    }
   ],
   "source": [
    "# --> not sure about the warning. The code works\n",
    "\n",
    "X_train_cat_customer_time['yyyy'] = pd.to_datetime(X_train_cat_customer_time['effective_to_date']).dt.year\n",
    "X_test_cat_customer_time['yyyy'] = pd.to_datetime(X_test_cat_customer_time['effective_to_date']).dt.year\n",
    "\n",
    "X_train_cat_customer_time['mm'] = pd.to_datetime(X_train_cat_customer_time['effective_to_date']).dt.month\n",
    "X_test_cat_customer_time['mm'] = pd.to_datetime(X_test_cat_customer_time['effective_to_date']).dt.month\n",
    "\n",
    "X_train_cat_customer_time['dd'] = pd.to_datetime(X_train_cat_customer_time['effective_to_date']).dt.day\n",
    "X_test_cat_customer_time['dd'] = pd.to_datetime(X_test_cat_customer_time['effective_to_date']).dt.day\n",
    "\n",
    "X_train_cat_customer_time"
   ]
  },
  {
   "cell_type": "code",
   "execution_count": 696,
   "id": "9ede3fd8-fa85-408d-80ea-f8a73f8183a3",
   "metadata": {},
   "outputs": [],
   "source": [
    "# I will treat year, month and day as nominal data and will encode them accordingly: \n",
    "\n",
    "X_train_time = X_train_cat_customer_time[['yyyy', 'mm', 'dd']]\n",
    "X_test_time =  X_test_cat_customer_time[['yyyy', 'mm', 'dd']]\n",
    "\n",
    "#Encoding with OHE\n",
    "ohe = OneHotEncoder()\n",
    "X_train_time_encoded = ohe.fit_transform(X_train_time).toarray()\n",
    "X_test_time_encoded = ohe.fit_transform(X_test_time).toarray()\n",
    "\n",
    "X_train_time_encoded = pd.DataFrame(X_train_time_encoded, columns = ohe.get_feature_names_out())\n",
    "X_test_time_encoded = pd.DataFrame(X_test_time_encoded, columns = ohe.get_feature_names_out())\n"
   ]
  },
  {
   "cell_type": "markdown",
   "id": "4fd8017b-23d2-4047-92f1-26573f210211",
   "metadata": {},
   "source": [
    "#### 8. Try a simple linear regression with all the data to see whether we are getting good results."
   ]
  },
  {
   "cell_type": "code",
   "execution_count": 703,
   "id": "bcb0e49c-afd8-4ab4-8dd6-5cab6ae7eea5",
   "metadata": {},
   "outputs": [],
   "source": [
    "from sklearn.linear_model import LinearRegression\n",
    "from sklearn.metrics import r2_score, mean_squared_error"
   ]
  },
  {
   "cell_type": "code",
   "execution_count": null,
   "id": "de5a755b-de71-46b8-8ec7-1086fbf75728",
   "metadata": {},
   "outputs": [],
   "source": [
    "# 1. CONCAT ALL THE TABLES TOGETHER"
   ]
  },
  {
   "cell_type": "code",
   "execution_count": 709,
   "id": "7014d8ce-d437-4f1b-8770-2e50625b8c81",
   "metadata": {},
   "outputs": [],
   "source": [
    "# X TRAIN without customer ID: \n",
    "X_train_scaled_encoded = pd.concat([X_train_time_encoded, X_train_nominal_ohe, X_train_ordinal_encoded_scaled, X_train_scaled_num], axis = 1)\n",
    "\n",
    "# X TEST without customer ID: \n",
    "X_test_scaled_encoded = pd.concat([X_test_time_encoded, X_test_nominal_ohe, X_test_ordinal_encoded_scaled, X_test_scaled_num], axis = 1)"
   ]
  },
  {
   "cell_type": "code",
   "execution_count": null,
   "id": "0b79b2da-76d9-4100-8e1b-bca4242d9a00",
   "metadata": {},
   "outputs": [],
   "source": [
    "# 2. FIT MODEL AND PREDICT"
   ]
  },
  {
   "cell_type": "code",
   "execution_count": 715,
   "id": "5edcb02b-8341-41e7-a888-1a190b9509c9",
   "metadata": {},
   "outputs": [],
   "source": [
    "model = LinearRegression()\n",
    "model.fit(X_train_scaled_encoded, y_train)\n",
    "test_predict = model.predict(X_test_scaled_encoded)"
   ]
  },
  {
   "cell_type": "code",
   "execution_count": null,
   "id": "79f13360-dd5e-4c29-9bbe-560cb92046bb",
   "metadata": {},
   "outputs": [],
   "source": [
    "# 3. EVALUATE MODEL "
   ]
  },
  {
   "cell_type": "code",
   "execution_count": 716,
   "id": "49d95fbe-71fd-4f63-9b7e-6f4e7ffb1da3",
   "metadata": {},
   "outputs": [
    {
     "name": "stdout",
     "output_type": "stream",
     "text": [
      "Mean squared error: 20387.55\n",
      "Coefficient of determination: 0.51\n"
     ]
    }
   ],
   "source": [
    "# The mean squared error\n",
    "print(\"Mean squared error: %.2f\" % mean_squared_error(y_test, test_predict))\n",
    "# The coefficient of determination: 1 is perfect prediction\n",
    "print(\"Coefficient of determination: %.2f\" % r2_score(y_test, test_predict))\n"
   ]
  },
  {
   "cell_type": "markdown",
   "id": "4dde507e-e209-4056-b731-2e48560cf8bc",
   "metadata": {},
   "source": [
    "#### 9. Define a function that takes a list of models and train (and tests) them so we can try a lot of them without repeating code.\n",
    "\n",
    "10. Use the function to check `LinearRegressor` and `KNeighborsRegressor`.\n",
    "\n",
    "11. You can check also the `MLPRegressor` for this task!"
   ]
  },
  {
   "cell_type": "code",
   "execution_count": 719,
   "id": "1f9a89dc-3f5b-4ddd-aa24-5391f0910c81",
   "metadata": {},
   "outputs": [],
   "source": [
    "from sklearn.neighbors import KNeighborsRegressor\n",
    "from sklearn.neural_network import MLPRegressor\n",
    "from sklearn.linear_model import LinearRegression\n",
    "\n",
    "\n",
    "### --> i do not know why i need to change the y_test in some models with ravel to get a 1d array? This happens here as well but still the model gives back a score\n",
    "\n",
    "### --> i also am very confused with the exercise. I am not at all sure how i would go about having a list of models that will be an input to a function. \n",
    "\n",
    "## --> My attempt at it is below: \n"
   ]
  },
  {
   "cell_type": "code",
   "execution_count": 747,
   "id": "e215b5df-ad58-4594-b160-c88f41563578",
   "metadata": {},
   "outputs": [
    {
     "name": "stderr",
     "output_type": "stream",
     "text": [
      "/Users/steib/opt/anaconda3/lib/python3.9/site-packages/sklearn/neural_network/_multilayer_perceptron.py:1607: DataConversionWarning: A column-vector y was passed when a 1d array was expected. Please change the shape of y to (n_samples, ), for example using ravel().\n",
      "  y = column_or_1d(y, warn=True)\n",
      "/Users/steib/opt/anaconda3/lib/python3.9/site-packages/sklearn/neural_network/_multilayer_perceptron.py:702: ConvergenceWarning: Stochastic Optimizer: Maximum iterations (100) reached and the optimization hasn't converged yet.\n",
      "  warnings.warn(\n",
      "/Users/steib/opt/anaconda3/lib/python3.9/site-packages/sklearn/neural_network/_multilayer_perceptron.py:1607: DataConversionWarning: A column-vector y was passed when a 1d array was expected. Please change the shape of y to (n_samples, ), for example using ravel().\n",
      "  y = column_or_1d(y, warn=True)\n",
      "/Users/steib/opt/anaconda3/lib/python3.9/site-packages/sklearn/neural_network/_multilayer_perceptron.py:702: ConvergenceWarning: Stochastic Optimizer: Maximum iterations (150) reached and the optimization hasn't converged yet.\n",
      "  warnings.warn(\n",
      "/Users/steib/opt/anaconda3/lib/python3.9/site-packages/sklearn/neural_network/_multilayer_perceptron.py:1607: DataConversionWarning: A column-vector y was passed when a 1d array was expected. Please change the shape of y to (n_samples, ), for example using ravel().\n",
      "  y = column_or_1d(y, warn=True)\n",
      "/Users/steib/opt/anaconda3/lib/python3.9/site-packages/sklearn/neural_network/_multilayer_perceptron.py:702: ConvergenceWarning: Stochastic Optimizer: Maximum iterations (200) reached and the optimization hasn't converged yet.\n",
      "  warnings.warn(\n",
      "/Users/steib/opt/anaconda3/lib/python3.9/site-packages/sklearn/neural_network/_multilayer_perceptron.py:1607: DataConversionWarning: A column-vector y was passed when a 1d array was expected. Please change the shape of y to (n_samples, ), for example using ravel().\n",
      "  y = column_or_1d(y, warn=True)\n",
      "/Users/steib/opt/anaconda3/lib/python3.9/site-packages/sklearn/neural_network/_multilayer_perceptron.py:702: ConvergenceWarning: Stochastic Optimizer: Maximum iterations (250) reached and the optimization hasn't converged yet.\n",
      "  warnings.warn(\n",
      "/Users/steib/opt/anaconda3/lib/python3.9/site-packages/sklearn/neural_network/_multilayer_perceptron.py:1607: DataConversionWarning: A column-vector y was passed when a 1d array was expected. Please change the shape of y to (n_samples, ), for example using ravel().\n",
      "  y = column_or_1d(y, warn=True)\n",
      "/Users/steib/opt/anaconda3/lib/python3.9/site-packages/sklearn/neural_network/_multilayer_perceptron.py:702: ConvergenceWarning: Stochastic Optimizer: Maximum iterations (300) reached and the optimization hasn't converged yet.\n",
      "  warnings.warn(\n",
      "/Users/steib/opt/anaconda3/lib/python3.9/site-packages/sklearn/neural_network/_multilayer_perceptron.py:1607: DataConversionWarning: A column-vector y was passed when a 1d array was expected. Please change the shape of y to (n_samples, ), for example using ravel().\n",
      "  y = column_or_1d(y, warn=True)\n",
      "/Users/steib/opt/anaconda3/lib/python3.9/site-packages/sklearn/neural_network/_multilayer_perceptron.py:702: ConvergenceWarning: Stochastic Optimizer: Maximum iterations (350) reached and the optimization hasn't converged yet.\n",
      "  warnings.warn(\n",
      "/Users/steib/opt/anaconda3/lib/python3.9/site-packages/sklearn/neural_network/_multilayer_perceptron.py:1607: DataConversionWarning: A column-vector y was passed when a 1d array was expected. Please change the shape of y to (n_samples, ), for example using ravel().\n",
      "  y = column_or_1d(y, warn=True)\n",
      "/Users/steib/opt/anaconda3/lib/python3.9/site-packages/sklearn/neural_network/_multilayer_perceptron.py:702: ConvergenceWarning: Stochastic Optimizer: Maximum iterations (400) reached and the optimization hasn't converged yet.\n",
      "  warnings.warn(\n",
      "/Users/steib/opt/anaconda3/lib/python3.9/site-packages/sklearn/neural_network/_multilayer_perceptron.py:1607: DataConversionWarning: A column-vector y was passed when a 1d array was expected. Please change the shape of y to (n_samples, ), for example using ravel().\n",
      "  y = column_or_1d(y, warn=True)\n",
      "/Users/steib/opt/anaconda3/lib/python3.9/site-packages/sklearn/neural_network/_multilayer_perceptron.py:702: ConvergenceWarning: Stochastic Optimizer: Maximum iterations (450) reached and the optimization hasn't converged yet.\n",
      "  warnings.warn(\n",
      "/Users/steib/opt/anaconda3/lib/python3.9/site-packages/sklearn/neural_network/_multilayer_perceptron.py:1607: DataConversionWarning: A column-vector y was passed when a 1d array was expected. Please change the shape of y to (n_samples, ), for example using ravel().\n",
      "  y = column_or_1d(y, warn=True)\n",
      "/Users/steib/opt/anaconda3/lib/python3.9/site-packages/sklearn/neural_network/_multilayer_perceptron.py:702: ConvergenceWarning: Stochastic Optimizer: Maximum iterations (500) reached and the optimization hasn't converged yet.\n",
      "  warnings.warn(\n",
      "/Users/steib/opt/anaconda3/lib/python3.9/site-packages/sklearn/neural_network/_multilayer_perceptron.py:1607: DataConversionWarning: A column-vector y was passed when a 1d array was expected. Please change the shape of y to (n_samples, ), for example using ravel().\n",
      "  y = column_or_1d(y, warn=True)\n"
     ]
    },
    {
     "name": "stdout",
     "output_type": "stream",
     "text": [
      "The R2-score TEST for the model LinearRegression() is: 0.5077541592457503\n",
      "\n",
      "The R2-score TEST for the model KNeighborsRegressor(n_neighbors=2) is: 0.3474837072686787\n",
      "\n",
      "The R2-score TEST for the model KNeighborsRegressor(n_neighbors=3) is: 0.3474837072686787\n",
      "\n",
      "The R2-score TEST for the model KNeighborsRegressor(n_neighbors=4) is: 0.3474837072686787\n",
      "\n",
      "The R2-score TEST for the model KNeighborsRegressor() is: 0.3474837072686787\n",
      "\n",
      "The R2-score TEST for the model KNeighborsRegressor(n_neighbors=6) is: 0.3474837072686787\n",
      "\n",
      "The R2-score TEST for the model KNeighborsRegressor(n_neighbors=7) is: 0.3474837072686787\n",
      "\n",
      "The R2-score TEST for the model KNeighborsRegressor(n_neighbors=8) is: 0.3474837072686787\n",
      "\n",
      "The R2-score TEST for the model KNeighborsRegressor(n_neighbors=9) is: 0.3474837072686787\n",
      "\n",
      "The R2-score TEST for the model KNeighborsRegressor(n_neighbors=10) is: 0.3474837072686787\n",
      "\n",
      "The R2-score TEST for the model KNeighborsRegressor(n_neighbors=11) is: 0.3474837072686787\n",
      "\n",
      "The R2-score TEST for the model KNeighborsRegressor(n_neighbors=12) is: 0.3474837072686787\n",
      "\n",
      "The R2-score TEST for the model KNeighborsRegressor(n_neighbors=13) is: 0.3474837072686787\n",
      "\n",
      "The R2-score TEST for the model KNeighborsRegressor(n_neighbors=14) is: 0.3474837072686787\n",
      "\n",
      "The R2-score TEST for the model MLPRegressor(max_iter=100, random_state=1) is: 0.5109765253466926\n",
      "\n",
      "The R2-score TEST for the model MLPRegressor(max_iter=150, random_state=1) is: 0.5710288453137322\n",
      "\n",
      "The R2-score TEST for the model MLPRegressor(random_state=1) is: 0.6503783285781141\n",
      "\n",
      "The R2-score TEST for the model MLPRegressor(max_iter=250, random_state=1) is: 0.7236416894901536\n",
      "\n",
      "The R2-score TEST for the model MLPRegressor(max_iter=300, random_state=1) is: 0.7722001811402945\n",
      "\n",
      "The R2-score TEST for the model MLPRegressor(max_iter=350, random_state=1) is: 0.7970286727650867\n",
      "\n",
      "The R2-score TEST for the model MLPRegressor(max_iter=400, random_state=1) is: 0.8059648413976136\n",
      "\n",
      "The R2-score TEST for the model MLPRegressor(max_iter=450, random_state=1) is: 0.8093340022029302\n",
      "\n",
      "The R2-score TEST for the model MLPRegressor(max_iter=500, random_state=1) is: 0.8110024098323126\n",
      "\n",
      "The R2-score TEST for the model MLPRegressor(max_iter=550, random_state=1) is: 0.8115086664831541\n",
      "\n"
     ]
    },
    {
     "name": "stderr",
     "output_type": "stream",
     "text": [
      "/Users/steib/opt/anaconda3/lib/python3.9/site-packages/sklearn/neural_network/_multilayer_perceptron.py:702: ConvergenceWarning: Stochastic Optimizer: Maximum iterations (550) reached and the optimization hasn't converged yet.\n",
      "  warnings.warn(\n"
     ]
    }
   ],
   "source": [
    "models = []\n",
    "scores = []\n",
    "    \n",
    "lrmodel = LinearRegression().fit(X_train_scaled_encoded, y_train)\n",
    "models.append(lrmodel)\n",
    "scores.append(lrmodel.score(X_test_scaled_encoded, y_test))\n",
    "\n",
    "for k in range(2,15):\n",
    "    kmodel = KNeighborsRegressor(n_neighbors=k)\n",
    "    kmodel.fit(X_train_scaled_encoded, y_train)\n",
    "    models.append(kmodel)\n",
    "    scores.append(model.score(X_test_scaled_encoded, y_test))\n",
    "\n",
    "for it in range(100, 600, 50):\n",
    "    mlpmodel = MLPRegressor(random_state=1, max_iter=it)\n",
    "    models.append(mlpmodel)\n",
    "    mlpmodel.fit(X_train_scaled_encoded, y_train)\n",
    "    scores.append(mlpmodel.score(X_test_scaled_encoded, y_test))\n",
    "\n",
    "model_score = list(zip(models, scores))\n",
    "\n",
    "for i in model_score:\n",
    "    print('The R2-score TEST for the model {} is: {}'.format(i[0], i[1]))\n",
    "    print()"
   ]
  },
  {
   "cell_type": "markdown",
   "id": "f70463fe-5586-4dba-953d-4f29dcb701b4",
   "metadata": {},
   "source": [
    "#### 12. Check and discuss the results.\n"
   ]
  },
  {
   "cell_type": "markdown",
   "id": "93b3dea8-a6e1-4943-8d9b-db1a9f065650",
   "metadata": {},
   "source": [
    "- After computing the scores of several models it is save to say, that the **MLP Regression seems to predict the best**.\n",
    "\n",
    "- The Scores get better with more iterations!\n",
    "\n",
    "- The Linear Model scores fairly similar compared to the MLP Regression with only 100 iterations \n",
    "\n",
    "- The worst performing models are the KNeighbors. Even when increasing the n-neighbors for the prediction the score does not improve. \n"
   ]
  },
  {
   "cell_type": "code",
   "execution_count": null,
   "id": "3606fec2-38ce-4901-acb0-9d5608265af9",
   "metadata": {},
   "outputs": [],
   "source": []
  }
 ],
 "metadata": {
  "kernelspec": {
   "display_name": "Python 3 (ipykernel)",
   "language": "python",
   "name": "python3"
  },
  "language_info": {
   "codemirror_mode": {
    "name": "ipython",
    "version": 3
   },
   "file_extension": ".py",
   "mimetype": "text/x-python",
   "name": "python",
   "nbconvert_exporter": "python",
   "pygments_lexer": "ipython3",
   "version": "3.9.7"
  }
 },
 "nbformat": 4,
 "nbformat_minor": 5
}
